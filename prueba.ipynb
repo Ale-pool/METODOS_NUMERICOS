{
 "cells": [
  {
   "cell_type": "code",
   "execution_count": 10,
   "metadata": {},
   "outputs": [
    {
     "ename": "ImportError",
     "evalue": "cannot import name 'metodos' from 'metodos' (c:\\Users\\ALEXANDER VILLADA\\OneDrive - IUE\\7 SEMESTRE\\BASE DE DATOS NO EXTRUCTURADAS\\Documents\\python\\metodos.py)",
     "output_type": "error",
     "traceback": [
      "\u001b[1;31m---------------------------------------------------------------------------\u001b[0m",
      "\u001b[1;31mImportError\u001b[0m                               Traceback (most recent call last)",
      "Cell \u001b[1;32mIn[10], line 1\u001b[0m\n\u001b[1;32m----> 1\u001b[0m \u001b[38;5;28;01mfrom\u001b[39;00m \u001b[38;5;21;01mmetodos\u001b[39;00m \u001b[38;5;28;01mimport\u001b[39;00m metodos\n\u001b[0;32m      2\u001b[0m \u001b[38;5;28;01mimport\u001b[39;00m \u001b[38;5;21;01mnumpy\u001b[39;00m \u001b[38;5;28;01mas\u001b[39;00m \u001b[38;5;21;01mnp\u001b[39;00m\n\u001b[0;32m      3\u001b[0m xi\u001b[38;5;241m=\u001b[39m[\u001b[38;5;241m0\u001b[39m,np\u001b[38;5;241m.\u001b[39mpi\u001b[38;5;241m/\u001b[39m\u001b[38;5;241m8\u001b[39m,np\u001b[38;5;241m.\u001b[39mpi\u001b[38;5;241m/\u001b[39m\u001b[38;5;241m4\u001b[39m,np\u001b[38;5;241m.\u001b[39mpi\u001b[38;5;241m/\u001b[39m\u001b[38;5;241m2\u001b[39m]\n",
      "\u001b[1;31mImportError\u001b[0m: cannot import name 'metodos' from 'metodos' (c:\\Users\\ALEXANDER VILLADA\\OneDrive - IUE\\7 SEMESTRE\\BASE DE DATOS NO EXTRUCTURADAS\\Documents\\python\\metodos.py)"
     ]
    }
   ],
   "source": [
    "from metodos import Metodos\n",
    "import numpy as np\n",
    "xi=[0,np.pi/8,np.pi/4,np.pi/2]\n",
    "f=\"np.six(x)\"\n",
    "fi=eval(f)\n",
    "x=0.52"
   ]
  }
 ],
 "metadata": {
  "kernelspec": {
   "display_name": "Python 3",
   "language": "python",
   "name": "python3"
  },
  "language_info": {
   "codemirror_mode": {
    "name": "ipython",
    "version": 3
   },
   "file_extension": ".py",
   "mimetype": "text/x-python",
   "name": "python",
   "nbconvert_exporter": "python",
   "pygments_lexer": "ipython3",
   "version": "3.12.2"
  }
 },
 "nbformat": 4,
 "nbformat_minor": 2
}
